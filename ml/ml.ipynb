{
 "cells": [
  {
   "cell_type": "code",
   "execution_count": 1,
   "id": "a920031d",
   "metadata": {},
   "outputs": [],
   "source": [
    "import numpy as np\n",
    "import pandas as pd\n",
    "import matplotlib.pyplot as plt\n",
    "import seaborn as sns\n",
    "import pickle\n",
    "from sklearn.model_selection import train_test_split\n",
    "from sklearn.linear_model import LinearRegression\n",
    "from sklearn.linear_model import LogisticRegression\n",
    "from sklearn.linear_model import Lasso\n",
    "from sklearn.linear_model import Ridge\n",
    "from sklearn.linear_model import ElasticNet\n",
    "from sklearn.metrics import mean_absolute_error, mean_squared_error, r2_score, accuracy_score, precision_score, f1_score, recall_score, roc_auc_score\n",
    "import warnings\n",
    "warnings.filterwarnings('ignore')"
   ]
  },
  {
   "cell_type": "code",
   "execution_count": 2,
   "id": "77763ae3",
   "metadata": {},
   "outputs": [],
   "source": [
    "df = pd.read_csv('dsgbb.csv')"
   ]
  },
  {
   "cell_type": "code",
   "execution_count": 3,
   "id": "749b457a",
   "metadata": {},
   "outputs": [
    {
     "name": "stdout",
     "output_type": "stream",
     "text": [
      "Price: min=5200, max=169900, mean=56175.71834992887\n",
      "Shaft_Diameter: min=19, max=120, mean=61.50071123755334\n",
      "Rated_torque: min=70.0, max=37177.0, mean=6957.564864864864\n",
      "Max_Torque_Rating: min=100, max=40000, mean=9703.79800853485\n",
      "Thermal_Rating: min=0.75, max=95.0, mean=11.956685633001424\n",
      "Stages: min=1, max=5, mean=3.2432432432432434\n",
      "Acutal_Ratio: min=3.1, max=10387.0, mean=1270.2864580369842\n",
      "Max_Input_Power: min=0.01, max=368.0, mean=12.24425320056899\n",
      "Actual_Speed_Rpm: min=0.14, max=1197.0, mean=50.55641536273116\n"
     ]
    }
   ],
   "source": [
    "import pandas as pd\n",
    "\n",
    "# assume df is your dataset created from the previous code snippet\n",
    "\n",
    "# Print the minimum, maximum, and mean values for each column\n",
    "for col in df.columns:\n",
    "    print(f\"{col}: min={df[col].min()}, max={df[col].max()}, mean={df[col].mean()}\")\n"
   ]
  },
  {
   "cell_type": "code",
   "execution_count": 3,
   "id": "d1a1b39f",
   "metadata": {
    "scrolled": false
   },
   "outputs": [
    {
     "data": {
      "text/html": [
       "<div>\n",
       "<style scoped>\n",
       "    .dataframe tbody tr th:only-of-type {\n",
       "        vertical-align: middle;\n",
       "    }\n",
       "\n",
       "    .dataframe tbody tr th {\n",
       "        vertical-align: top;\n",
       "    }\n",
       "\n",
       "    .dataframe thead th {\n",
       "        text-align: right;\n",
       "    }\n",
       "</style>\n",
       "<table border=\"1\" class=\"dataframe\">\n",
       "  <thead>\n",
       "    <tr style=\"text-align: right;\">\n",
       "      <th></th>\n",
       "      <th>Price</th>\n",
       "      <th>Shaft_Diameter</th>\n",
       "      <th>Rated_torque</th>\n",
       "      <th>Max_Torque_Rating</th>\n",
       "      <th>Thermal_Rating</th>\n",
       "      <th>Stages</th>\n",
       "      <th>Acutal_Ratio</th>\n",
       "      <th>Max_Input_Power</th>\n",
       "      <th>Actual_Speed_Rpm</th>\n",
       "    </tr>\n",
       "  </thead>\n",
       "  <tbody>\n",
       "    <tr>\n",
       "      <th>0</th>\n",
       "      <td>5200</td>\n",
       "      <td>19</td>\n",
       "      <td>70.0</td>\n",
       "      <td>100</td>\n",
       "      <td>0.75</td>\n",
       "      <td>1</td>\n",
       "      <td>3.4</td>\n",
       "      <td>0.75</td>\n",
       "      <td>424.00</td>\n",
       "    </tr>\n",
       "    <tr>\n",
       "      <th>1</th>\n",
       "      <td>6100</td>\n",
       "      <td>19</td>\n",
       "      <td>80.0</td>\n",
       "      <td>100</td>\n",
       "      <td>0.75</td>\n",
       "      <td>1</td>\n",
       "      <td>4.0</td>\n",
       "      <td>0.75</td>\n",
       "      <td>360.00</td>\n",
       "    </tr>\n",
       "    <tr>\n",
       "      <th>2</th>\n",
       "      <td>6800</td>\n",
       "      <td>19</td>\n",
       "      <td>70.0</td>\n",
       "      <td>100</td>\n",
       "      <td>0.75</td>\n",
       "      <td>1</td>\n",
       "      <td>5.0</td>\n",
       "      <td>0.75</td>\n",
       "      <td>288.00</td>\n",
       "    </tr>\n",
       "    <tr>\n",
       "      <th>3</th>\n",
       "      <td>7400</td>\n",
       "      <td>19</td>\n",
       "      <td>80.0</td>\n",
       "      <td>100</td>\n",
       "      <td>0.75</td>\n",
       "      <td>2</td>\n",
       "      <td>11.6</td>\n",
       "      <td>0.75</td>\n",
       "      <td>125.00</td>\n",
       "    </tr>\n",
       "    <tr>\n",
       "      <th>4</th>\n",
       "      <td>7600</td>\n",
       "      <td>19</td>\n",
       "      <td>70.0</td>\n",
       "      <td>100</td>\n",
       "      <td>0.75</td>\n",
       "      <td>2</td>\n",
       "      <td>13.6</td>\n",
       "      <td>0.75</td>\n",
       "      <td>106.00</td>\n",
       "    </tr>\n",
       "    <tr>\n",
       "      <th>...</th>\n",
       "      <td>...</td>\n",
       "      <td>...</td>\n",
       "      <td>...</td>\n",
       "      <td>...</td>\n",
       "      <td>...</td>\n",
       "      <td>...</td>\n",
       "      <td>...</td>\n",
       "      <td>...</td>\n",
       "      <td>...</td>\n",
       "    </tr>\n",
       "    <tr>\n",
       "      <th>698</th>\n",
       "      <td>164200</td>\n",
       "      <td>120</td>\n",
       "      <td>32049.0</td>\n",
       "      <td>40000</td>\n",
       "      <td>18.50</td>\n",
       "      <td>5</td>\n",
       "      <td>6004.5</td>\n",
       "      <td>1.08</td>\n",
       "      <td>0.24</td>\n",
       "    </tr>\n",
       "    <tr>\n",
       "      <th>699</th>\n",
       "      <td>165700</td>\n",
       "      <td>120</td>\n",
       "      <td>30767.0</td>\n",
       "      <td>40000</td>\n",
       "      <td>18.50</td>\n",
       "      <td>5</td>\n",
       "      <td>6947.6</td>\n",
       "      <td>0.90</td>\n",
       "      <td>0.21</td>\n",
       "    </tr>\n",
       "    <tr>\n",
       "      <th>700</th>\n",
       "      <td>167200</td>\n",
       "      <td>120</td>\n",
       "      <td>32049.0</td>\n",
       "      <td>40000</td>\n",
       "      <td>18.50</td>\n",
       "      <td>5</td>\n",
       "      <td>7976.3</td>\n",
       "      <td>0.81</td>\n",
       "      <td>0.18</td>\n",
       "    </tr>\n",
       "    <tr>\n",
       "      <th>701</th>\n",
       "      <td>168700</td>\n",
       "      <td>120</td>\n",
       "      <td>30767.0</td>\n",
       "      <td>40000</td>\n",
       "      <td>18.50</td>\n",
       "      <td>5</td>\n",
       "      <td>9180.1</td>\n",
       "      <td>0.68</td>\n",
       "      <td>0.16</td>\n",
       "    </tr>\n",
       "    <tr>\n",
       "      <th>702</th>\n",
       "      <td>169900</td>\n",
       "      <td>120</td>\n",
       "      <td>30767.0</td>\n",
       "      <td>40000</td>\n",
       "      <td>18.50</td>\n",
       "      <td>5</td>\n",
       "      <td>10261.0</td>\n",
       "      <td>0.61</td>\n",
       "      <td>0.14</td>\n",
       "    </tr>\n",
       "  </tbody>\n",
       "</table>\n",
       "<p>703 rows × 9 columns</p>\n",
       "</div>"
      ],
      "text/plain": [
       "      Price  Shaft_Diameter  Rated_torque  Max_Torque_Rating  Thermal_Rating  \\\n",
       "0      5200              19          70.0                100            0.75   \n",
       "1      6100              19          80.0                100            0.75   \n",
       "2      6800              19          70.0                100            0.75   \n",
       "3      7400              19          80.0                100            0.75   \n",
       "4      7600              19          70.0                100            0.75   \n",
       "..      ...             ...           ...                ...             ...   \n",
       "698  164200             120       32049.0              40000           18.50   \n",
       "699  165700             120       30767.0              40000           18.50   \n",
       "700  167200             120       32049.0              40000           18.50   \n",
       "701  168700             120       30767.0              40000           18.50   \n",
       "702  169900             120       30767.0              40000           18.50   \n",
       "\n",
       "     Stages  Acutal_Ratio  Max_Input_Power  Actual_Speed_Rpm  \n",
       "0         1           3.4             0.75            424.00  \n",
       "1         1           4.0             0.75            360.00  \n",
       "2         1           5.0             0.75            288.00  \n",
       "3         2          11.6             0.75            125.00  \n",
       "4         2          13.6             0.75            106.00  \n",
       "..      ...           ...              ...               ...  \n",
       "698       5        6004.5             1.08              0.24  \n",
       "699       5        6947.6             0.90              0.21  \n",
       "700       5        7976.3             0.81              0.18  \n",
       "701       5        9180.1             0.68              0.16  \n",
       "702       5       10261.0             0.61              0.14  \n",
       "\n",
       "[703 rows x 9 columns]"
      ]
     },
     "execution_count": 3,
     "metadata": {},
     "output_type": "execute_result"
    }
   ],
   "source": [
    "df"
   ]
  },
  {
   "cell_type": "markdown",
   "id": "609fb6e0",
   "metadata": {},
   "source": [
    "# Data Cleaning"
   ]
  },
  {
   "cell_type": "code",
   "execution_count": 4,
   "id": "d931f651",
   "metadata": {},
   "outputs": [
    {
     "data": {
      "text/html": [
       "<div>\n",
       "<style scoped>\n",
       "    .dataframe tbody tr th:only-of-type {\n",
       "        vertical-align: middle;\n",
       "    }\n",
       "\n",
       "    .dataframe tbody tr th {\n",
       "        vertical-align: top;\n",
       "    }\n",
       "\n",
       "    .dataframe thead th {\n",
       "        text-align: right;\n",
       "    }\n",
       "</style>\n",
       "<table border=\"1\" class=\"dataframe\">\n",
       "  <thead>\n",
       "    <tr style=\"text-align: right;\">\n",
       "      <th></th>\n",
       "      <th>Price</th>\n",
       "      <th>Shaft_Diameter</th>\n",
       "      <th>Rated_torque</th>\n",
       "      <th>Max_Torque_Rating</th>\n",
       "      <th>Thermal_Rating</th>\n",
       "      <th>Stages</th>\n",
       "      <th>Acutal_Ratio</th>\n",
       "      <th>Max_Input_Power</th>\n",
       "      <th>Actual_Speed_Rpm</th>\n",
       "    </tr>\n",
       "  </thead>\n",
       "  <tbody>\n",
       "    <tr>\n",
       "      <th>count</th>\n",
       "      <td>703.000000</td>\n",
       "      <td>703.000000</td>\n",
       "      <td>703.000000</td>\n",
       "      <td>703.000000</td>\n",
       "      <td>703.000000</td>\n",
       "      <td>703.000000</td>\n",
       "      <td>703.000000</td>\n",
       "      <td>703.000000</td>\n",
       "      <td>703.000000</td>\n",
       "    </tr>\n",
       "    <tr>\n",
       "      <th>mean</th>\n",
       "      <td>56175.718350</td>\n",
       "      <td>61.500711</td>\n",
       "      <td>6957.564865</td>\n",
       "      <td>9703.798009</td>\n",
       "      <td>11.956686</td>\n",
       "      <td>3.243243</td>\n",
       "      <td>1270.286458</td>\n",
       "      <td>12.244253</td>\n",
       "      <td>50.556415</td>\n",
       "    </tr>\n",
       "    <tr>\n",
       "      <th>std</th>\n",
       "      <td>40754.382398</td>\n",
       "      <td>32.935830</td>\n",
       "      <td>8706.680857</td>\n",
       "      <td>12130.531925</td>\n",
       "      <td>16.336398</td>\n",
       "      <td>1.233094</td>\n",
       "      <td>2265.059000</td>\n",
       "      <td>25.009352</td>\n",
       "      <td>105.479132</td>\n",
       "    </tr>\n",
       "    <tr>\n",
       "      <th>min</th>\n",
       "      <td>5200.000000</td>\n",
       "      <td>19.000000</td>\n",
       "      <td>70.000000</td>\n",
       "      <td>100.000000</td>\n",
       "      <td>0.750000</td>\n",
       "      <td>1.000000</td>\n",
       "      <td>3.100000</td>\n",
       "      <td>0.010000</td>\n",
       "      <td>0.140000</td>\n",
       "    </tr>\n",
       "    <tr>\n",
       "      <th>25%</th>\n",
       "      <td>22300.000000</td>\n",
       "      <td>32.000000</td>\n",
       "      <td>783.000000</td>\n",
       "      <td>1000.000000</td>\n",
       "      <td>1.500000</td>\n",
       "      <td>2.000000</td>\n",
       "      <td>35.100000</td>\n",
       "      <td>0.390000</td>\n",
       "      <td>1.170000</td>\n",
       "    </tr>\n",
       "    <tr>\n",
       "      <th>50%</th>\n",
       "      <td>44700.000000</td>\n",
       "      <td>60.000000</td>\n",
       "      <td>2456.000000</td>\n",
       "      <td>5000.000000</td>\n",
       "      <td>5.500000</td>\n",
       "      <td>3.000000</td>\n",
       "      <td>202.500000</td>\n",
       "      <td>2.100000</td>\n",
       "      <td>7.110000</td>\n",
       "    </tr>\n",
       "    <tr>\n",
       "      <th>75%</th>\n",
       "      <td>82025.000000</td>\n",
       "      <td>95.000000</td>\n",
       "      <td>10903.500000</td>\n",
       "      <td>20000.000000</td>\n",
       "      <td>18.500000</td>\n",
       "      <td>4.000000</td>\n",
       "      <td>1232.000000</td>\n",
       "      <td>10.455000</td>\n",
       "      <td>41.030000</td>\n",
       "    </tr>\n",
       "    <tr>\n",
       "      <th>max</th>\n",
       "      <td>169900.000000</td>\n",
       "      <td>120.000000</td>\n",
       "      <td>37177.000000</td>\n",
       "      <td>40000.000000</td>\n",
       "      <td>95.000000</td>\n",
       "      <td>5.000000</td>\n",
       "      <td>10387.000000</td>\n",
       "      <td>368.000000</td>\n",
       "      <td>1197.000000</td>\n",
       "    </tr>\n",
       "  </tbody>\n",
       "</table>\n",
       "</div>"
      ],
      "text/plain": [
       "               Price  Shaft_Diameter  Rated_torque  Max_Torque_Rating  \\\n",
       "count     703.000000      703.000000    703.000000         703.000000   \n",
       "mean    56175.718350       61.500711   6957.564865        9703.798009   \n",
       "std     40754.382398       32.935830   8706.680857       12130.531925   \n",
       "min      5200.000000       19.000000     70.000000         100.000000   \n",
       "25%     22300.000000       32.000000    783.000000        1000.000000   \n",
       "50%     44700.000000       60.000000   2456.000000        5000.000000   \n",
       "75%     82025.000000       95.000000  10903.500000       20000.000000   \n",
       "max    169900.000000      120.000000  37177.000000       40000.000000   \n",
       "\n",
       "       Thermal_Rating      Stages  Acutal_Ratio  Max_Input_Power  \\\n",
       "count      703.000000  703.000000    703.000000       703.000000   \n",
       "mean        11.956686    3.243243   1270.286458        12.244253   \n",
       "std         16.336398    1.233094   2265.059000        25.009352   \n",
       "min          0.750000    1.000000      3.100000         0.010000   \n",
       "25%          1.500000    2.000000     35.100000         0.390000   \n",
       "50%          5.500000    3.000000    202.500000         2.100000   \n",
       "75%         18.500000    4.000000   1232.000000        10.455000   \n",
       "max         95.000000    5.000000  10387.000000       368.000000   \n",
       "\n",
       "       Actual_Speed_Rpm  \n",
       "count        703.000000  \n",
       "mean          50.556415  \n",
       "std          105.479132  \n",
       "min            0.140000  \n",
       "25%            1.170000  \n",
       "50%            7.110000  \n",
       "75%           41.030000  \n",
       "max         1197.000000  "
      ]
     },
     "execution_count": 4,
     "metadata": {},
     "output_type": "execute_result"
    }
   ],
   "source": [
    "df.describe()"
   ]
  },
  {
   "cell_type": "code",
   "execution_count": 5,
   "id": "cbee47be",
   "metadata": {},
   "outputs": [],
   "source": [
    "duplicate_rows = df.duplicated().sum()"
   ]
  },
  {
   "cell_type": "code",
   "execution_count": 6,
   "id": "4c554558",
   "metadata": {},
   "outputs": [
    {
     "name": "stdout",
     "output_type": "stream",
     "text": [
      "0\n"
     ]
    }
   ],
   "source": [
    "print(duplicate_rows)"
   ]
  },
  {
   "cell_type": "code",
   "execution_count": 7,
   "id": "4b249c6d",
   "metadata": {},
   "outputs": [],
   "source": [
    "missing_values = df.isnull().sum()"
   ]
  },
  {
   "cell_type": "code",
   "execution_count": 8,
   "id": "a0c87348",
   "metadata": {},
   "outputs": [
    {
     "name": "stdout",
     "output_type": "stream",
     "text": [
      "Price                0\n",
      "Shaft_Diameter       0\n",
      "Rated_torque         0\n",
      "Max_Torque_Rating    0\n",
      "Thermal_Rating       0\n",
      "Stages               0\n",
      "Acutal_Ratio         0\n",
      "Max_Input_Power      0\n",
      "Actual_Speed_Rpm     0\n",
      "dtype: int64\n"
     ]
    }
   ],
   "source": [
    "print(missing_values)"
   ]
  },
  {
   "cell_type": "markdown",
   "id": "5ce17d40",
   "metadata": {},
   "source": [
    "# Data Visualization"
   ]
  },
  {
   "cell_type": "code",
   "execution_count": 9,
   "id": "54386e9a",
   "metadata": {},
   "outputs": [
    {
     "data": {
      "text/plain": [
       "<Axes: xlabel='Shaft_Diameter', ylabel='Price'>"
      ]
     },
     "execution_count": 9,
     "metadata": {},
     "output_type": "execute_result"
    },
    {
     "data": {
      "image/png": "[encoded data removed]",
      "text/plain": [
       "<Figure size 640x480 with 1 Axes>"
      ]
     },
     "metadata": {},
     "output_type": "display_data"
    }
   ],
   "source": [
    "sns.barplot(x = df['Shaft_Diameter'], y = df['Price'])"
   ]
  },
  {
   "cell_type": "code",
   "execution_count": 10,
   "id": "919fd56c",
   "metadata": {},
   "outputs": [
    {
     "data": {
      "text/plain": [
       "<Axes: xlabel='Price', ylabel='Density'>"
      ]
     },
     "execution_count": 10,
     "metadata": {},
     "output_type": "execute_result"
    },
    {
     "data": {
      "image/png": "[encoded data removed]",
      "text/plain": [
       "<Figure size 640x480 with 1 Axes>"
      ]
     },
     "metadata": {},
     "output_type": "display_data"
    }
   ],
   "source": [
    "sns.distplot(df['Price'])"
   ]
  },
  {
   "cell_type": "code",
   "execution_count": 11,
   "id": "eadf4206",
   "metadata": {},
   "outputs": [
    {
     "data": {
      "text/plain": [
       "<Axes: >"
      ]
     },
     "execution_count": 11,
     "metadata": {},
     "output_type": "execute_result"
    },
    {
     "data": {
      "image/png": "[encoded data removed]",
      "text/plain": [
       "<Figure size 640x480 with 1 Axes>"
      ]
     },
     "metadata": {},
     "output_type": "display_data"
    }
   ],
   "source": [
    "df['Stages'].value_counts().plot(kind='bar')"
   ]
  },
  {
   "cell_type": "code",
   "execution_count": 12,
   "id": "8d56fb4d",
   "metadata": {},
   "outputs": [
    {
     "data": {
      "image/png": "[encoded data removed]",
      "text/plain": [
       "<Figure size 640x480 with 1 Axes>"
      ]
     },
     "metadata": {},
     "output_type": "display_data"
    }
   ],
   "source": [
    "sns.barplot(x=df['Shaft_Diameter'],y=df['Price'])\n",
    "plt.xticks(rotation='vertical')\n",
    "plt.show()"
   ]
  },
  {
   "cell_type": "code",
   "execution_count": 13,
   "id": "ea4004b3",
   "metadata": {},
   "outputs": [
    {
     "data": {
      "text/plain": [
       "<Axes: xlabel='Thermal_Rating', ylabel='Price'>"
      ]
     },
     "execution_count": 13,
     "metadata": {},
     "output_type": "execute_result"
    },
    {
     "data": {
      "image/png": "[encoded data removed]",
      "text/plain": [
       "<Figure size 640x480 with 1 Axes>"
      ]
     },
     "metadata": {},
     "output_type": "display_data"
    }
   ],
   "source": [
    "sns.scatterplot(data=df, x=\"Thermal_Rating\", y=\"Price\")"
   ]
  },
  {
   "cell_type": "code",
   "execution_count": 14,
   "id": "26c688c6",
   "metadata": {},
   "outputs": [
    {
     "data": {
      "text/plain": [
       "<Axes: >"
      ]
     },
     "execution_count": 14,
     "metadata": {},
     "output_type": "execute_result"
    },
    {
     "data": {
      "image/png": "[encoded data removed]",
      "text/plain": [
       "<Figure size 640x480 with 2 Axes>"
      ]
     },
     "metadata": {},
     "output_type": "display_data"
    }
   ],
   "source": [
    "sns.heatmap(df.corr())"
   ]
  },
  {
   "cell_type": "code",
   "execution_count": 15,
   "id": "cdd0b050",
   "metadata": {},
   "outputs": [],
   "source": [
    "X = df.drop(columns=['Price'])\n",
    "y = df['Price']"
   ]
  },
  {
   "cell_type": "markdown",
   "id": "b6fea270",
   "metadata": {},
   "source": [
    "# Data Splitting"
   ]
  },
  {
   "cell_type": "code",
   "execution_count": 16,
   "id": "bf0e3186",
   "metadata": {},
   "outputs": [
    {
     "data": {
      "text/html": [
       "<div>\n",
       "<style scoped>\n",
       "    .dataframe tbody tr th:only-of-type {\n",
       "        vertical-align: middle;\n",
       "    }\n",
       "\n",
       "    .dataframe tbody tr th {\n",
       "        vertical-align: top;\n",
       "    }\n",
       "\n",
       "    .dataframe thead th {\n",
       "        text-align: right;\n",
       "    }\n",
       "</style>\n",
       "<table border=\"1\" class=\"dataframe\">\n",
       "  <thead>\n",
       "    <tr style=\"text-align: right;\">\n",
       "      <th></th>\n",
       "      <th>Shaft_Diameter</th>\n",
       "      <th>Rated_torque</th>\n",
       "      <th>Max_Torque_Rating</th>\n",
       "      <th>Thermal_Rating</th>\n",
       "      <th>Stages</th>\n",
       "      <th>Acutal_Ratio</th>\n",
       "      <th>Max_Input_Power</th>\n",
       "      <th>Actual_Speed_Rpm</th>\n",
       "    </tr>\n",
       "  </thead>\n",
       "  <tbody>\n",
       "    <tr>\n",
       "      <th>0</th>\n",
       "      <td>19</td>\n",
       "      <td>70.0</td>\n",
       "      <td>100</td>\n",
       "      <td>0.75</td>\n",
       "      <td>1</td>\n",
       "      <td>3.4</td>\n",
       "      <td>0.75</td>\n",
       "      <td>424.00</td>\n",
       "    </tr>\n",
       "    <tr>\n",
       "      <th>1</th>\n",
       "      <td>19</td>\n",
       "      <td>80.0</td>\n",
       "      <td>100</td>\n",
       "      <td>0.75</td>\n",
       "      <td>1</td>\n",
       "      <td>4.0</td>\n",
       "      <td>0.75</td>\n",
       "      <td>360.00</td>\n",
       "    </tr>\n",
       "    <tr>\n",
       "      <th>2</th>\n",
       "      <td>19</td>\n",
       "      <td>70.0</td>\n",
       "      <td>100</td>\n",
       "      <td>0.75</td>\n",
       "      <td>1</td>\n",
       "      <td>5.0</td>\n",
       "      <td>0.75</td>\n",
       "      <td>288.00</td>\n",
       "    </tr>\n",
       "    <tr>\n",
       "      <th>3</th>\n",
       "      <td>19</td>\n",
       "      <td>80.0</td>\n",
       "      <td>100</td>\n",
       "      <td>0.75</td>\n",
       "      <td>2</td>\n",
       "      <td>11.6</td>\n",
       "      <td>0.75</td>\n",
       "      <td>125.00</td>\n",
       "    </tr>\n",
       "    <tr>\n",
       "      <th>4</th>\n",
       "      <td>19</td>\n",
       "      <td>70.0</td>\n",
       "      <td>100</td>\n",
       "      <td>0.75</td>\n",
       "      <td>2</td>\n",
       "      <td>13.6</td>\n",
       "      <td>0.75</td>\n",
       "      <td>106.00</td>\n",
       "    </tr>\n",
       "    <tr>\n",
       "      <th>...</th>\n",
       "      <td>...</td>\n",
       "      <td>...</td>\n",
       "      <td>...</td>\n",
       "      <td>...</td>\n",
       "      <td>...</td>\n",
       "      <td>...</td>\n",
       "      <td>...</td>\n",
       "      <td>...</td>\n",
       "    </tr>\n",
       "    <tr>\n",
       "      <th>698</th>\n",
       "      <td>120</td>\n",
       "      <td>32049.0</td>\n",
       "      <td>40000</td>\n",
       "      <td>18.50</td>\n",
       "      <td>5</td>\n",
       "      <td>6004.5</td>\n",
       "      <td>1.08</td>\n",
       "      <td>0.24</td>\n",
       "    </tr>\n",
       "    <tr>\n",
       "      <th>699</th>\n",
       "      <td>120</td>\n",
       "      <td>30767.0</td>\n",
       "      <td>40000</td>\n",
       "      <td>18.50</td>\n",
       "      <td>5</td>\n",
       "      <td>6947.6</td>\n",
       "      <td>0.90</td>\n",
       "      <td>0.21</td>\n",
       "    </tr>\n",
       "    <tr>\n",
       "      <th>700</th>\n",
       "      <td>120</td>\n",
       "      <td>32049.0</td>\n",
       "      <td>40000</td>\n",
       "      <td>18.50</td>\n",
       "      <td>5</td>\n",
       "      <td>7976.3</td>\n",
       "      <td>0.81</td>\n",
       "      <td>0.18</td>\n",
       "    </tr>\n",
       "    <tr>\n",
       "      <th>701</th>\n",
       "      <td>120</td>\n",
       "      <td>30767.0</td>\n",
       "      <td>40000</td>\n",
       "      <td>18.50</td>\n",
       "      <td>5</td>\n",
       "      <td>9180.1</td>\n",
       "      <td>0.68</td>\n",
       "      <td>0.16</td>\n",
       "    </tr>\n",
       "    <tr>\n",
       "      <th>702</th>\n",
       "      <td>120</td>\n",
       "      <td>30767.0</td>\n",
       "      <td>40000</td>\n",
       "      <td>18.50</td>\n",
       "      <td>5</td>\n",
       "      <td>10261.0</td>\n",
       "      <td>0.61</td>\n",
       "      <td>0.14</td>\n",
       "    </tr>\n",
       "  </tbody>\n",
       "</table>\n",
       "<p>703 rows × 8 columns</p>\n",
       "</div>"
      ],
      "text/plain": [
       "     Shaft_Diameter  Rated_torque  Max_Torque_Rating  Thermal_Rating  Stages  \\\n",
       "0                19          70.0                100            0.75       1   \n",
       "1                19          80.0                100            0.75       1   \n",
       "2                19          70.0                100            0.75       1   \n",
       "3                19          80.0                100            0.75       2   \n",
       "4                19          70.0                100            0.75       2   \n",
       "..              ...           ...                ...             ...     ...   \n",
       "698             120       32049.0              40000           18.50       5   \n",
       "699             120       30767.0              40000           18.50       5   \n",
       "700             120       32049.0              40000           18.50       5   \n",
       "701             120       30767.0              40000           18.50       5   \n",
       "702             120       30767.0              40000           18.50       5   \n",
       "\n",
       "     Acutal_Ratio  Max_Input_Power  Actual_Speed_Rpm  \n",
       "0             3.4             0.75            424.00  \n",
       "1             4.0             0.75            360.00  \n",
       "2             5.0             0.75            288.00  \n",
       "3            11.6             0.75            125.00  \n",
       "4            13.6             0.75            106.00  \n",
       "..            ...              ...               ...  \n",
       "698        6004.5             1.08              0.24  \n",
       "699        6947.6             0.90              0.21  \n",
       "700        7976.3             0.81              0.18  \n",
       "701        9180.1             0.68              0.16  \n",
       "702       10261.0             0.61              0.14  \n",
       "\n",
       "[703 rows x 8 columns]"
      ]
     },
     "execution_count": 16,
     "metadata": {},
     "output_type": "execute_result"
    }
   ],
   "source": [
    "X"
   ]
  },
  {
   "cell_type": "code",
   "execution_count": 17,
   "id": "463b32e5",
   "metadata": {},
   "outputs": [
    {
     "data": {
      "text/plain": [
       "0        5200\n",
       "1        6100\n",
       "2        6800\n",
       "3        7400\n",
       "4        7600\n",
       "        ...  \n",
       "698    164200\n",
       "699    165700\n",
       "700    167200\n",
       "701    168700\n",
       "702    169900\n",
       "Name: Price, Length: 703, dtype: int64"
      ]
     },
     "execution_count": 17,
     "metadata": {},
     "output_type": "execute_result"
    }
   ],
   "source": [
    "y"
   ]
  },
  {
   "cell_type": "code",
   "execution_count": 18,
   "id": "b711e856",
   "metadata": {},
   "outputs": [],
   "source": [
    "X_train,X_test,y_train,y_test=train_test_split(X,y,test_size=0.2,random_state=42)"
   ]
  },
  {
   "cell_type": "markdown",
   "id": "b228e56d",
   "metadata": {},
   "source": [
    "# Fitting the Algorithms"
   ]
  },
  {
   "cell_type": "code",
   "execution_count": 19,
   "id": "e86f9d0f",
   "metadata": {},
   "outputs": [],
   "source": [
    "Lin=LinearRegression() \n",
    "Log=LogisticRegression() \n",
    "Las=Lasso() \n",
    "Rid=Ridge() \n",
    "Eln=ElasticNet()"
   ]
  },
  {
   "cell_type": "code",
   "execution_count": 20,
   "id": "500ef9f0",
   "metadata": {},
   "outputs": [
    {
     "data": {
      "text/html": [
       "<style>#sk-container-id-1 {color: black;background-color: white;}#sk-container-id-1 pre{padding: 0;}#sk-container-id-1 div.sk-toggleable {background-color: white;}#sk-container-id-1 label.sk-toggleable__label {cursor: pointer;display: block;width: 100%;margin-bottom: 0;padding: 0.3em;box-sizing: border-box;text-align: center;}#sk-container-id-1 label.sk-toggleable__label-arrow:before {content: \"▸\";float: left;margin-right: 0.25em;color: #696969;}#sk-container-id-1 label.sk-toggleable__label-arrow:hover:before {color: black;}#sk-container-id-1 div.sk-estimator:hover label.sk-toggleable__label-arrow:before {color: black;}#sk-container-id-1 div.sk-toggleable__content {max-height: 0;max-width: 0;overflow: hidden;text-align: left;background-color: #f0f8ff;}#sk-container-id-1 div.sk-toggleable__content pre {margin: 0.2em;color: black;border-radius: 0.25em;background-color: #f0f8ff;}#sk-container-id-1 input.sk-toggleable__control:checked~div.sk-toggleable__content {max-height: 200px;max-width: 100%;overflow: auto;}#sk-container-id-1 input.sk-toggleable__control:checked~label.sk-toggleable__label-arrow:before {content: \"▾\";}#sk-container-id-1 div.sk-estimator input.sk-toggleable__control:checked~label.sk-toggleable__label {background-color: #d4ebff;}#sk-container-id-1 div.sk-label input.sk-toggleable__control:checked~label.sk-toggleable__label {background-color: #d4ebff;}#sk-container-id-1 input.sk-hidden--visually {border: 0;clip: rect(1px 1px 1px 1px);clip: rect(1px, 1px, 1px, 1px);height: 1px;margin: -1px;overflow: hidden;padding: 0;position: absolute;width: 1px;}#sk-container-id-1 div.sk-estimator {font-family: monospace;background-color: #f0f8ff;border: 1px dotted black;border-radius: 0.25em;box-sizing: border-box;margin-bottom: 0.5em;}#sk-container-id-1 div.sk-estimator:hover {background-color: #d4ebff;}#sk-container-id-1 div.sk-parallel-item::after {content: \"\";width: 100%;border-bottom: 1px solid gray;flex-grow: 1;}#sk-container-id-1 div.sk-label:hover label.sk-toggleable__label {background-color: #d4ebff;}#sk-container-id-1 div.sk-serial::before {content: \"\";position: absolute;border-left: 1px solid gray;box-sizing: border-box;top: 0;bottom: 0;left: 50%;z-index: 0;}#sk-container-id-1 div.sk-serial {display: flex;flex-direction: column;align-items: center;background-color: white;padding-right: 0.2em;padding-left: 0.2em;position: relative;}#sk-container-id-1 div.sk-item {position: relative;z-index: 1;}#sk-container-id-1 div.sk-parallel {display: flex;align-items: stretch;justify-content: center;background-color: white;position: relative;}#sk-container-id-1 div.sk-item::before, #sk-container-id-1 div.sk-parallel-item::before {content: \"\";position: absolute;border-left: 1px solid gray;box-sizing: border-box;top: 0;bottom: 0;left: 50%;z-index: -1;}#sk-container-id-1 div.sk-parallel-item {display: flex;flex-direction: column;z-index: 1;position: relative;background-color: white;}#sk-container-id-1 div.sk-parallel-item:first-child::after {align-self: flex-end;width: 50%;}#sk-container-id-1 div.sk-parallel-item:last-child::after {align-self: flex-start;width: 50%;}#sk-container-id-1 div.sk-parallel-item:only-child::after {width: 0;}#sk-container-id-1 div.sk-dashed-wrapped {border: 1px dashed gray;margin: 0 0.4em 0.5em 0.4em;box-sizing: border-box;padding-bottom: 0.4em;background-color: white;}#sk-container-id-1 div.sk-label label {font-family: monospace;font-weight: bold;display: inline-block;line-height: 1.2em;}#sk-container-id-1 div.sk-label-container {text-align: center;}#sk-container-id-1 div.sk-container {/* jupyter's `normalize.less` sets `[hidden] { display: none; }` but bootstrap.min.css set `[hidden] { display: none !important; }` so we also need the `!important` here to be able to override the default hidden behavior on the sphinx rendered scikit-learn.org. See: https://github.com/scikit-learn/scikit-learn/issues/21755 */display: inline-block !important;position: relative;}#sk-container-id-1 div.sk-text-repr-fallback {display: none;}</style><div id=\"sk-container-id-1\" class=\"sk-top-container\"><div class=\"sk-text-repr-fallback\"><pre>LinearRegression()</pre><b>In a Jupyter environment, please rerun this cell to show the HTML representation or trust the notebook. <br />On GitHub, the HTML representation is unable to render, please try loading this page with nbviewer.org.</b></div><div class=\"sk-container\" hidden><div class=\"sk-item\"><div class=\"sk-estimator sk-toggleable\"><input class=\"sk-toggleable__control sk-hidden--visually\" id=\"sk-estimator-id-1\" type=\"checkbox\" checked><label for=\"sk-estimator-id-1\" class=\"sk-toggleable__label sk-toggleable__label-arrow\">LinearRegression</label><div class=\"sk-toggleable__content\"><pre>LinearRegression()</pre></div></div></div></div></div>"
      ],
      "text/plain": [
       "LinearRegression()"
      ]
     },
     "execution_count": 20,
     "metadata": {},
     "output_type": "execute_result"
    }
   ],
   "source": [
    "Lin.fit(X_train,y_train)"
   ]
  },
  {
   "cell_type": "code",
   "execution_count": 21,
   "id": "cbd7b877",
   "metadata": {},
   "outputs": [
    {
     "data": {
      "text/html": [
       "<style>#sk-container-id-2 {color: black;background-color: white;}#sk-container-id-2 pre{padding: 0;}#sk-container-id-2 div.sk-toggleable {background-color: white;}#sk-container-id-2 label.sk-toggleable__label {cursor: pointer;display: block;width: 100%;margin-bottom: 0;padding: 0.3em;box-sizing: border-box;text-align: center;}#sk-container-id-2 label.sk-toggleable__label-arrow:before {content: \"▸\";float: left;margin-right: 0.25em;color: #696969;}#sk-container-id-2 label.sk-toggleable__label-arrow:hover:before {color: black;}#sk-container-id-2 div.sk-estimator:hover label.sk-toggleable__label-arrow:before {color: black;}#sk-container-id-2 div.sk-toggleable__content {max-height: 0;max-width: 0;overflow: hidden;text-align: left;background-color: #f0f8ff;}#sk-container-id-2 div.sk-toggleable__content pre {margin: 0.2em;color: black;border-radius: 0.25em;background-color: #f0f8ff;}#sk-container-id-2 input.sk-toggleable__control:checked~div.sk-toggleable__content {max-height: 200px;max-width: 100%;overflow: auto;}#sk-container-id-2 input.sk-toggleable__control:checked~label.sk-toggleable__label-arrow:before {content: \"▾\";}#sk-container-id-2 div.sk-estimator input.sk-toggleable__control:checked~label.sk-toggleable__label {background-color: #d4ebff;}#sk-container-id-2 div.sk-label input.sk-toggleable__control:checked~label.sk-toggleable__label {background-color: #d4ebff;}#sk-container-id-2 input.sk-hidden--visually {border: 0;clip: rect(1px 1px 1px 1px);clip: rect(1px, 1px, 1px, 1px);height: 1px;margin: -1px;overflow: hidden;padding: 0;position: absolute;width: 1px;}#sk-container-id-2 div.sk-estimator {font-family: monospace;background-color: #f0f8ff;border: 1px dotted black;border-radius: 0.25em;box-sizing: border-box;margin-bottom: 0.5em;}#sk-container-id-2 div.sk-estimator:hover {background-color: #d4ebff;}#sk-container-id-2 div.sk-parallel-item::after {content: \"\";width: 100%;border-bottom: 1px solid gray;flex-grow: 1;}#sk-container-id-2 div.sk-label:hover label.sk-toggleable__label {background-color: #d4ebff;}#sk-container-id-2 div.sk-serial::before {content: \"\";position: absolute;border-left: 1px solid gray;box-sizing: border-box;top: 0;bottom: 0;left: 50%;z-index: 0;}#sk-container-id-2 div.sk-serial {display: flex;flex-direction: column;align-items: center;background-color: white;padding-right: 0.2em;padding-left: 0.2em;position: relative;}#sk-container-id-2 div.sk-item {position: relative;z-index: 1;}#sk-container-id-2 div.sk-parallel {display: flex;align-items: stretch;justify-content: center;background-color: white;position: relative;}#sk-container-id-2 div.sk-item::before, #sk-container-id-2 div.sk-parallel-item::before {content: \"\";position: absolute;border-left: 1px solid gray;box-sizing: border-box;top: 0;bottom: 0;left: 50%;z-index: -1;}#sk-container-id-2 div.sk-parallel-item {display: flex;flex-direction: column;z-index: 1;position: relative;background-color: white;}#sk-container-id-2 div.sk-parallel-item:first-child::after {align-self: flex-end;width: 50%;}#sk-container-id-2 div.sk-parallel-item:last-child::after {align-self: flex-start;width: 50%;}#sk-container-id-2 div.sk-parallel-item:only-child::after {width: 0;}#sk-container-id-2 div.sk-dashed-wrapped {border: 1px dashed gray;margin: 0 0.4em 0.5em 0.4em;box-sizing: border-box;padding-bottom: 0.4em;background-color: white;}#sk-container-id-2 div.sk-label label {font-family: monospace;font-weight: bold;display: inline-block;line-height: 1.2em;}#sk-container-id-2 div.sk-label-container {text-align: center;}#sk-container-id-2 div.sk-container {/* jupyter's `normalize.less` sets `[hidden] { display: none; }` but bootstrap.min.css set `[hidden] { display: none !important; }` so we also need the `!important` here to be able to override the default hidden behavior on the sphinx rendered scikit-learn.org. See: https://github.com/scikit-learn/scikit-learn/issues/21755 */display: inline-block !important;position: relative;}#sk-container-id-2 div.sk-text-repr-fallback {display: none;}</style><div id=\"sk-container-id-2\" class=\"sk-top-container\"><div class=\"sk-text-repr-fallback\"><pre>LogisticRegression()</pre><b>In a Jupyter environment, please rerun this cell to show the HTML representation or trust the notebook. <br />On GitHub, the HTML representation is unable to render, please try loading this page with nbviewer.org.</b></div><div class=\"sk-container\" hidden><div class=\"sk-item\"><div class=\"sk-estimator sk-toggleable\"><input class=\"sk-toggleable__control sk-hidden--visually\" id=\"sk-estimator-id-2\" type=\"checkbox\" checked><label for=\"sk-estimator-id-2\" class=\"sk-toggleable__label sk-toggleable__label-arrow\">LogisticRegression</label><div class=\"sk-toggleable__content\"><pre>LogisticRegression()</pre></div></div></div></div></div>"
      ],
      "text/plain": [
       "LogisticRegression()"
      ]
     },
     "execution_count": 21,
     "metadata": {},
     "output_type": "execute_result"
    }
   ],
   "source": [
    "Log.fit(X_train,y_train)"
   ]
  },
  {
   "cell_type": "code",
   "execution_count": 22,
   "id": "dba5dfe1",
   "metadata": {},
   "outputs": [
    {
     "data": {
      "text/html": [
       "<style>#sk-container-id-3 {color: black;background-color: white;}#sk-container-id-3 pre{padding: 0;}#sk-container-id-3 div.sk-toggleable {background-color: white;}#sk-container-id-3 label.sk-toggleable__label {cursor: pointer;display: block;width: 100%;margin-bottom: 0;padding: 0.3em;box-sizing: border-box;text-align: center;}#sk-container-id-3 label.sk-toggleable__label-arrow:before {content: \"▸\";float: left;margin-right: 0.25em;color: #696969;}#sk-container-id-3 label.sk-toggleable__label-arrow:hover:before {color: black;}#sk-container-id-3 div.sk-estimator:hover label.sk-toggleable__label-arrow:before {color: black;}#sk-container-id-3 div.sk-toggleable__content {max-height: 0;max-width: 0;overflow: hidden;text-align: left;background-color: #f0f8ff;}#sk-container-id-3 div.sk-toggleable__content pre {margin: 0.2em;color: black;border-radius: 0.25em;background-color: #f0f8ff;}#sk-container-id-3 input.sk-toggleable__control:checked~div.sk-toggleable__content {max-height: 200px;max-width: 100%;overflow: auto;}#sk-container-id-3 input.sk-toggleable__control:checked~label.sk-toggleable__label-arrow:before {content: \"▾\";}#sk-container-id-3 div.sk-estimator input.sk-toggleable__control:checked~label.sk-toggleable__label {background-color: #d4ebff;}#sk-container-id-3 div.sk-label input.sk-toggleable__control:checked~label.sk-toggleable__label {background-color: #d4ebff;}#sk-container-id-3 input.sk-hidden--visually {border: 0;clip: rect(1px 1px 1px 1px);clip: rect(1px, 1px, 1px, 1px);height: 1px;margin: -1px;overflow: hidden;padding: 0;position: absolute;width: 1px;}#sk-container-id-3 div.sk-estimator {font-family: monospace;background-color: #f0f8ff;border: 1px dotted black;border-radius: 0.25em;box-sizing: border-box;margin-bottom: 0.5em;}#sk-container-id-3 div.sk-estimator:hover {background-color: #d4ebff;}#sk-container-id-3 div.sk-parallel-item::after {content: \"\";width: 100%;border-bottom: 1px solid gray;flex-grow: 1;}#sk-container-id-3 div.sk-label:hover label.sk-toggleable__label {background-color: #d4ebff;}#sk-container-id-3 div.sk-serial::before {content: \"\";position: absolute;border-left: 1px solid gray;box-sizing: border-box;top: 0;bottom: 0;left: 50%;z-index: 0;}#sk-container-id-3 div.sk-serial {display: flex;flex-direction: column;align-items: center;background-color: white;padding-right: 0.2em;padding-left: 0.2em;position: relative;}#sk-container-id-3 div.sk-item {position: relative;z-index: 1;}#sk-container-id-3 div.sk-parallel {display: flex;align-items: stretch;justify-content: center;background-color: white;position: relative;}#sk-container-id-3 div.sk-item::before, #sk-container-id-3 div.sk-parallel-item::before {content: \"\";position: absolute;border-left: 1px solid gray;box-sizing: border-box;top: 0;bottom: 0;left: 50%;z-index: -1;}#sk-container-id-3 div.sk-parallel-item {display: flex;flex-direction: column;z-index: 1;position: relative;background-color: white;}#sk-container-id-3 div.sk-parallel-item:first-child::after {align-self: flex-end;width: 50%;}#sk-container-id-3 div.sk-parallel-item:last-child::after {align-self: flex-start;width: 50%;}#sk-container-id-3 div.sk-parallel-item:only-child::after {width: 0;}#sk-container-id-3 div.sk-dashed-wrapped {border: 1px dashed gray;margin: 0 0.4em 0.5em 0.4em;box-sizing: border-box;padding-bottom: 0.4em;background-color: white;}#sk-container-id-3 div.sk-label label {font-family: monospace;font-weight: bold;display: inline-block;line-height: 1.2em;}#sk-container-id-3 div.sk-label-container {text-align: center;}#sk-container-id-3 div.sk-container {/* jupyter's `normalize.less` sets `[hidden] { display: none; }` but bootstrap.min.css set `[hidden] { display: none !important; }` so we also need the `!important` here to be able to override the default hidden behavior on the sphinx rendered scikit-learn.org. See: https://github.com/scikit-learn/scikit-learn/issues/21755 */display: inline-block !important;position: relative;}#sk-container-id-3 div.sk-text-repr-fallback {display: none;}</style><div id=\"sk-container-id-3\" class=\"sk-top-container\"><div class=\"sk-text-repr-fallback\"><pre>Lasso()</pre><b>In a Jupyter environment, please rerun this cell to show the HTML representation or trust the notebook. <br />On GitHub, the HTML representation is unable to render, please try loading this page with nbviewer.org.</b></div><div class=\"sk-container\" hidden><div class=\"sk-item\"><div class=\"sk-estimator sk-toggleable\"><input class=\"sk-toggleable__control sk-hidden--visually\" id=\"sk-estimator-id-3\" type=\"checkbox\" checked><label for=\"sk-estimator-id-3\" class=\"sk-toggleable__label sk-toggleable__label-arrow\">Lasso</label><div class=\"sk-toggleable__content\"><pre>Lasso()</pre></div></div></div></div></div>"
      ],
      "text/plain": [
       "Lasso()"
      ]
     },
     "execution_count": 22,
     "metadata": {},
     "output_type": "execute_result"
    }
   ],
   "source": [
    "Las.fit(X_train,y_train)"
   ]
  },
  {
   "cell_type": "code",
   "execution_count": 23,
   "id": "8c1c5ea4",
   "metadata": {},
   "outputs": [
    {
     "data": {
      "text/html": [
       "<style>#sk-container-id-4 {color: black;background-color: white;}#sk-container-id-4 pre{padding: 0;}#sk-container-id-4 div.sk-toggleable {background-color: white;}#sk-container-id-4 label.sk-toggleable__label {cursor: pointer;display: block;width: 100%;margin-bottom: 0;padding: 0.3em;box-sizing: border-box;text-align: center;}#sk-container-id-4 label.sk-toggleable__label-arrow:before {content: \"▸\";float: left;margin-right: 0.25em;color: #696969;}#sk-container-id-4 label.sk-toggleable__label-arrow:hover:before {color: black;}#sk-container-id-4 div.sk-estimator:hover label.sk-toggleable__label-arrow:before {color: black;}#sk-container-id-4 div.sk-toggleable__content {max-height: 0;max-width: 0;overflow: hidden;text-align: left;background-color: #f0f8ff;}#sk-container-id-4 div.sk-toggleable__content pre {margin: 0.2em;color: black;border-radius: 0.25em;background-color: #f0f8ff;}#sk-container-id-4 input.sk-toggleable__control:checked~div.sk-toggleable__content {max-height: 200px;max-width: 100%;overflow: auto;}#sk-container-id-4 input.sk-toggleable__control:checked~label.sk-toggleable__label-arrow:before {content: \"▾\";}#sk-container-id-4 div.sk-estimator input.sk-toggleable__control:checked~label.sk-toggleable__label {background-color: #d4ebff;}#sk-container-id-4 div.sk-label input.sk-toggleable__control:checked~label.sk-toggleable__label {background-color: #d4ebff;}#sk-container-id-4 input.sk-hidden--visually {border: 0;clip: rect(1px 1px 1px 1px);clip: rect(1px, 1px, 1px, 1px);height: 1px;margin: -1px;overflow: hidden;padding: 0;position: absolute;width: 1px;}#sk-container-id-4 div.sk-estimator {font-family: monospace;background-color: #f0f8ff;border: 1px dotted black;border-radius: 0.25em;box-sizing: border-box;margin-bottom: 0.5em;}#sk-container-id-4 div.sk-estimator:hover {background-color: #d4ebff;}#sk-container-id-4 div.sk-parallel-item::after {content: \"\";width: 100%;border-bottom: 1px solid gray;flex-grow: 1;}#sk-container-id-4 div.sk-label:hover label.sk-toggleable__label {background-color: #d4ebff;}#sk-container-id-4 div.sk-serial::before {content: \"\";position: absolute;border-left: 1px solid gray;box-sizing: border-box;top: 0;bottom: 0;left: 50%;z-index: 0;}#sk-container-id-4 div.sk-serial {display: flex;flex-direction: column;align-items: center;background-color: white;padding-right: 0.2em;padding-left: 0.2em;position: relative;}#sk-container-id-4 div.sk-item {position: relative;z-index: 1;}#sk-container-id-4 div.sk-parallel {display: flex;align-items: stretch;justify-content: center;background-color: white;position: relative;}#sk-container-id-4 div.sk-item::before, #sk-container-id-4 div.sk-parallel-item::before {content: \"\";position: absolute;border-left: 1px solid gray;box-sizing: border-box;top: 0;bottom: 0;left: 50%;z-index: -1;}#sk-container-id-4 div.sk-parallel-item {display: flex;flex-direction: column;z-index: 1;position: relative;background-color: white;}#sk-container-id-4 div.sk-parallel-item:first-child::after {align-self: flex-end;width: 50%;}#sk-container-id-4 div.sk-parallel-item:last-child::after {align-self: flex-start;width: 50%;}#sk-container-id-4 div.sk-parallel-item:only-child::after {width: 0;}#sk-container-id-4 div.sk-dashed-wrapped {border: 1px dashed gray;margin: 0 0.4em 0.5em 0.4em;box-sizing: border-box;padding-bottom: 0.4em;background-color: white;}#sk-container-id-4 div.sk-label label {font-family: monospace;font-weight: bold;display: inline-block;line-height: 1.2em;}#sk-container-id-4 div.sk-label-container {text-align: center;}#sk-container-id-4 div.sk-container {/* jupyter's `normalize.less` sets `[hidden] { display: none; }` but bootstrap.min.css set `[hidden] { display: none !important; }` so we also need the `!important` here to be able to override the default hidden behavior on the sphinx rendered scikit-learn.org. See: https://github.com/scikit-learn/scikit-learn/issues/21755 */display: inline-block !important;position: relative;}#sk-container-id-4 div.sk-text-repr-fallback {display: none;}</style><div id=\"sk-container-id-4\" class=\"sk-top-container\"><div class=\"sk-text-repr-fallback\"><pre>Ridge()</pre><b>In a Jupyter environment, please rerun this cell to show the HTML representation or trust the notebook. <br />On GitHub, the HTML representation is unable to render, please try loading this page with nbviewer.org.</b></div><div class=\"sk-container\" hidden><div class=\"sk-item\"><div class=\"sk-estimator sk-toggleable\"><input class=\"sk-toggleable__control sk-hidden--visually\" id=\"sk-estimator-id-4\" type=\"checkbox\" checked><label for=\"sk-estimator-id-4\" class=\"sk-toggleable__label sk-toggleable__label-arrow\">Ridge</label><div class=\"sk-toggleable__content\"><pre>Ridge()</pre></div></div></div></div></div>"
      ],
      "text/plain": [
       "Ridge()"
      ]
     },
     "execution_count": 23,
     "metadata": {},
     "output_type": "execute_result"
    }
   ],
   "source": [
    "Rid.fit(X_train,y_train)"
   ]
  },
  {
   "cell_type": "code",
   "execution_count": 24,
   "id": "42e1224e",
   "metadata": {},
   "outputs": [
    {
     "data": {
      "text/html": [
       "<style>#sk-container-id-5 {color: black;background-color: white;}#sk-container-id-5 pre{padding: 0;}#sk-container-id-5 div.sk-toggleable {background-color: white;}#sk-container-id-5 label.sk-toggleable__label {cursor: pointer;display: block;width: 100%;margin-bottom: 0;padding: 0.3em;box-sizing: border-box;text-align: center;}#sk-container-id-5 label.sk-toggleable__label-arrow:before {content: \"▸\";float: left;margin-right: 0.25em;color: #696969;}#sk-container-id-5 label.sk-toggleable__label-arrow:hover:before {color: black;}#sk-container-id-5 div.sk-estimator:hover label.sk-toggleable__label-arrow:before {color: black;}#sk-container-id-5 div.sk-toggleable__content {max-height: 0;max-width: 0;overflow: hidden;text-align: left;background-color: #f0f8ff;}#sk-container-id-5 div.sk-toggleable__content pre {margin: 0.2em;color: black;border-radius: 0.25em;background-color: #f0f8ff;}#sk-container-id-5 input.sk-toggleable__control:checked~div.sk-toggleable__content {max-height: 200px;max-width: 100%;overflow: auto;}#sk-container-id-5 input.sk-toggleable__control:checked~label.sk-toggleable__label-arrow:before {content: \"▾\";}#sk-container-id-5 div.sk-estimator input.sk-toggleable__control:checked~label.sk-toggleable__label {background-color: #d4ebff;}#sk-container-id-5 div.sk-label input.sk-toggleable__control:checked~label.sk-toggleable__label {background-color: #d4ebff;}#sk-container-id-5 input.sk-hidden--visually {border: 0;clip: rect(1px 1px 1px 1px);clip: rect(1px, 1px, 1px, 1px);height: 1px;margin: -1px;overflow: hidden;padding: 0;position: absolute;width: 1px;}#sk-container-id-5 div.sk-estimator {font-family: monospace;background-color: #f0f8ff;border: 1px dotted black;border-radius: 0.25em;box-sizing: border-box;margin-bottom: 0.5em;}#sk-container-id-5 div.sk-estimator:hover {background-color: #d4ebff;}#sk-container-id-5 div.sk-parallel-item::after {content: \"\";width: 100%;border-bottom: 1px solid gray;flex-grow: 1;}#sk-container-id-5 div.sk-label:hover label.sk-toggleable__label {background-color: #d4ebff;}#sk-container-id-5 div.sk-serial::before {content: \"\";position: absolute;border-left: 1px solid gray;box-sizing: border-box;top: 0;bottom: 0;left: 50%;z-index: 0;}#sk-container-id-5 div.sk-serial {display: flex;flex-direction: column;align-items: center;background-color: white;padding-right: 0.2em;padding-left: 0.2em;position: relative;}#sk-container-id-5 div.sk-item {position: relative;z-index: 1;}#sk-container-id-5 div.sk-parallel {display: flex;align-items: stretch;justify-content: center;background-color: white;position: relative;}#sk-container-id-5 div.sk-item::before, #sk-container-id-5 div.sk-parallel-item::before {content: \"\";position: absolute;border-left: 1px solid gray;box-sizing: border-box;top: 0;bottom: 0;left: 50%;z-index: -1;}#sk-container-id-5 div.sk-parallel-item {display: flex;flex-direction: column;z-index: 1;position: relative;background-color: white;}#sk-container-id-5 div.sk-parallel-item:first-child::after {align-self: flex-end;width: 50%;}#sk-container-id-5 div.sk-parallel-item:last-child::after {align-self: flex-start;width: 50%;}#sk-container-id-5 div.sk-parallel-item:only-child::after {width: 0;}#sk-container-id-5 div.sk-dashed-wrapped {border: 1px dashed gray;margin: 0 0.4em 0.5em 0.4em;box-sizing: border-box;padding-bottom: 0.4em;background-color: white;}#sk-container-id-5 div.sk-label label {font-family: monospace;font-weight: bold;display: inline-block;line-height: 1.2em;}#sk-container-id-5 div.sk-label-container {text-align: center;}#sk-container-id-5 div.sk-container {/* jupyter's `normalize.less` sets `[hidden] { display: none; }` but bootstrap.min.css set `[hidden] { display: none !important; }` so we also need the `!important` here to be able to override the default hidden behavior on the sphinx rendered scikit-learn.org. See: https://github.com/scikit-learn/scikit-learn/issues/21755 */display: inline-block !important;position: relative;}#sk-container-id-5 div.sk-text-repr-fallback {display: none;}</style><div id=\"sk-container-id-5\" class=\"sk-top-container\"><div class=\"sk-text-repr-fallback\"><pre>ElasticNet()</pre><b>In a Jupyter environment, please rerun this cell to show the HTML representation or trust the notebook. <br />On GitHub, the HTML representation is unable to render, please try loading this page with nbviewer.org.</b></div><div class=\"sk-container\" hidden><div class=\"sk-item\"><div class=\"sk-estimator sk-toggleable\"><input class=\"sk-toggleable__control sk-hidden--visually\" id=\"sk-estimator-id-5\" type=\"checkbox\" checked><label for=\"sk-estimator-id-5\" class=\"sk-toggleable__label sk-toggleable__label-arrow\">ElasticNet</label><div class=\"sk-toggleable__content\"><pre>ElasticNet()</pre></div></div></div></div></div>"
      ],
      "text/plain": [
       "ElasticNet()"
      ]
     },
     "execution_count": 24,
     "metadata": {},
     "output_type": "execute_result"
    }
   ],
   "source": [
    "Eln.fit(X_train,y_train)"
   ]
  },
  {
   "cell_type": "code",
   "execution_count": 25,
   "id": "e54b941b",
   "metadata": {},
   "outputs": [],
   "source": [
    "y_pred_Lin=Lin.predict(X_test)"
   ]
  },
  {
   "cell_type": "code",
   "execution_count": 26,
   "id": "a0ad8252",
   "metadata": {},
   "outputs": [],
   "source": [
    "y_pred_Log=Log.predict(X_test)"
   ]
  },
  {
   "cell_type": "code",
   "execution_count": 27,
   "id": "b4007268",
   "metadata": {},
   "outputs": [],
   "source": [
    "y_pred_Las=Las.predict(X_test)"
   ]
  },
  {
   "cell_type": "code",
   "execution_count": 28,
   "id": "fbc34824",
   "metadata": {},
   "outputs": [],
   "source": [
    "y_pred_Rid=Rid.predict(X_test)"
   ]
  },
  {
   "cell_type": "code",
   "execution_count": 29,
   "id": "d7ebcb34",
   "metadata": {},
   "outputs": [],
   "source": [
    "y_pred_Eln=Eln.predict(X_test)"
   ]
  },
  {
   "cell_type": "markdown",
   "id": "3328d185",
   "metadata": {},
   "source": [
    "# User Input Prediction"
   ]
  },
  {
   "cell_type": "code",
   "execution_count": 30,
   "id": "a68ab4cd",
   "metadata": {},
   "outputs": [
    {
     "data": {
      "text/plain": [
       "array([164507.62104217])"
      ]
     },
     "execution_count": 30,
     "metadata": {},
     "output_type": "execute_result"
    }
   ],
   "source": [
    "Lin.predict(pd.DataFrame([[120,32049.0,40000,18.50,5,6004.5,1.080,0.24]], columns=['Shaft_Diameter','Rated_torque','Max_Torque_Rating','Thermal_Rating','Stages','Acutal_Ratio','Max_Input_Power','Actual_Speed_Rpm']))"
   ]
  },
  {
   "cell_type": "code",
   "execution_count": 31,
   "id": "83fa7cc7",
   "metadata": {},
   "outputs": [
    {
     "data": {
      "text/plain": [
       "array([140960], dtype=int64)"
      ]
     },
     "execution_count": 31,
     "metadata": {},
     "output_type": "execute_result"
    }
   ],
   "source": [
    "Log.predict(pd.DataFrame([[120,32049.0,40000,18.50,5,6004.5,1.080,0.24]], columns=['Shaft_Diameter','Rated_torque','Max_Torque_Rating','Thermal_Rating','Stages','Acutal_Ratio','Max_Input_Power','Actual_Speed_Rpm']))"
   ]
  },
  {
   "cell_type": "code",
   "execution_count": 32,
   "id": "ab4bb380",
   "metadata": {},
   "outputs": [
    {
     "data": {
      "text/plain": [
       "array([164509.00257598])"
      ]
     },
     "execution_count": 32,
     "metadata": {},
     "output_type": "execute_result"
    }
   ],
   "source": [
    "Las.predict(pd.DataFrame([[120,32049.0,40000,18.50,5,6004.5,1.080,0.24]], columns=['Shaft_Diameter','Rated_torque','Max_Torque_Rating','Thermal_Rating','Stages','Acutal_Ratio','Max_Input_Power','Actual_Speed_Rpm']))"
   ]
  },
  {
   "cell_type": "code",
   "execution_count": 33,
   "id": "4190bdb2",
   "metadata": {},
   "outputs": [
    {
     "data": {
      "text/plain": [
       "array([164520.1028592])"
      ]
     },
     "execution_count": 33,
     "metadata": {},
     "output_type": "execute_result"
    }
   ],
   "source": [
    "Rid.predict(pd.DataFrame([[120,32049.0,40000,18.50,5,6004.5,1.080,0.24]], columns=['Shaft_Diameter','Rated_torque','Max_Torque_Rating','Thermal_Rating','Stages','Acutal_Ratio','Max_Input_Power','Actual_Speed_Rpm']))"
   ]
  },
  {
   "cell_type": "code",
   "execution_count": 34,
   "id": "0081ed0c",
   "metadata": {},
   "outputs": [
    {
     "data": {
      "text/plain": [
       "array([166055.44956991])"
      ]
     },
     "execution_count": 34,
     "metadata": {},
     "output_type": "execute_result"
    }
   ],
   "source": [
    "Eln.predict(pd.DataFrame([[120,32049.0,40000,18.50,5,6004.5,1.080,0.24]], columns=['Shaft_Diameter','Rated_torque','Max_Torque_Rating','Thermal_Rating','Stages','Acutal_Ratio','Max_Input_Power','Actual_Speed_Rpm']))"
   ]
  },
  {
   "cell_type": "markdown",
   "id": "c7d0605c",
   "metadata": {},
   "source": [
    "# Model Evalutaion"
   ]
  },
  {
   "cell_type": "code",
   "execution_count": 35,
   "id": "378a0388",
   "metadata": {},
   "outputs": [
    {
     "name": "stdout",
     "output_type": "stream",
     "text": [
      "R2 score 0.9473872381455284\n",
      "Adjusted R-squared: 0.9441985859119241\n",
      "Mean absolute error 3912.08960919201\n",
      "Mean squared error 85655741.39481246\n",
      "Root Mean squared error: 9255.038703042384\n"
     ]
    }
   ],
   "source": [
    "print('R2 score',r2_score(y_test,y_pred_Lin))\n",
    "r2 = r2_score(y_test, y_pred_Lin)\n",
    "n = len(X_test)\n",
    "p = 8\n",
    "adj_r2 = 1 - ((1 - r2)*(n - 1)/(n - p - 1))\n",
    "print(\"Adjusted R-squared:\", adj_r2)\n",
    "print('Mean absolute error',mean_absolute_error(y_test,y_pred_Lin))\n",
    "print('Mean squared error',mean_squared_error(y_test,y_pred_Lin))\n",
    "mse = mean_squared_error(y_test, y_pred_Lin)\n",
    "rmse = np.sqrt(mse)\n",
    "print('Root Mean squared error:', rmse)"
   ]
  },
  {
   "cell_type": "code",
   "execution_count": 36,
   "id": "982f0b9d",
   "metadata": {},
   "outputs": [
    {
     "name": "stdout",
     "output_type": "stream",
     "text": [
      "accuracy_score 0.0\n",
      "precision_score 0.0\n",
      "recall_score 0.0\n",
      "f1_score 0.0\n"
     ]
    }
   ],
   "source": [
    "print('accuracy_score',accuracy_score(y_test, y_pred_Log))\n",
    "print('precision_score',precision_score(y_test, y_pred_Log, average='micro'))\n",
    "print('recall_score',recall_score(y_test, y_pred_Log, average='micro'))\n",
    "print('f1_score',f1_score(y_test, y_pred_Log, average='micro')) "
   ]
  },
  {
   "cell_type": "code",
   "execution_count": 37,
   "id": "55c44d52",
   "metadata": {},
   "outputs": [
    {
     "name": "stdout",
     "output_type": "stream",
     "text": [
      "R2 score 0.94737984213016\n",
      "Adjusted R-squared: 0.9441907416532\n",
      "Mean absolute error 3911.9505229325023\n",
      "Mean squared error 85667782.41218954\n",
      "Root Mean squared error: 9255.689191637191\n"
     ]
    }
   ],
   "source": [
    "print('R2 score',r2_score(y_test,y_pred_Las))\n",
    "r2 = r2_score(y_test, y_pred_Las)\n",
    "n = len(X_test)\n",
    "p = 8\n",
    "adj_r2 = 1 - ((1 - r2)*(n - 1)/(n - p - 1))\n",
    "print(\"Adjusted R-squared:\", adj_r2)\n",
    "print('Mean absolute error',mean_absolute_error(y_test,y_pred_Las))\n",
    "print('Mean squared error',mean_squared_error(y_test,y_pred_Las))\n",
    "mse = mean_squared_error(y_test, y_pred_Las)\n",
    "rmse = np.sqrt(mse)\n",
    "print('Root Mean squared error:', rmse)"
   ]
  },
  {
   "cell_type": "code",
   "execution_count": 38,
   "id": "bc8d91b4",
   "metadata": {},
   "outputs": [
    {
     "name": "stdout",
     "output_type": "stream",
     "text": [
      "R2 score 0.94733553948746\n",
      "Adjusted R-squared: 0.9441437540018515\n",
      "Mean absolute error 3910.9252583687216\n",
      "Mean squared error 85739908.93762681\n",
      "Root Mean squared error: 9259.584706542017\n"
     ]
    }
   ],
   "source": [
    "print('R2 score',r2_score(y_test,y_pred_Rid))\n",
    "r2 = r2_score(y_test, y_pred_Rid)\n",
    "n = len(X_test)\n",
    "p = 8\n",
    "adj_r2 = 1 - ((1 - r2)*(n - 1)/(n - p - 1))\n",
    "print(\"Adjusted R-squared:\", adj_r2)\n",
    "print('Mean absolute error',mean_absolute_error(y_test,y_pred_Rid))\n",
    "print('Mean squared error',mean_squared_error(y_test,y_pred_Rid))\n",
    "mse = mean_squared_error(y_test, y_pred_Rid)\n",
    "rmse = np.sqrt(mse)\n",
    "print('Root Mean squared error:', rmse)"
   ]
  },
  {
   "cell_type": "code",
   "execution_count": 39,
   "id": "d251b537",
   "metadata": {},
   "outputs": [
    {
     "name": "stdout",
     "output_type": "stream",
     "text": [
      "R2 score 0.9392047668948251\n",
      "Adjusted R-squared: 0.9355202073126934\n",
      "Mean absolute error 3943.1597079616286\n",
      "Mean squared error 98977141.31218173\n",
      "Root Mean squared error: 9948.725612468248\n"
     ]
    }
   ],
   "source": [
    "print('R2 score',r2_score(y_test,y_pred_Eln))\n",
    "r2 = r2_score(y_test, y_pred_Eln)\n",
    "n = len(X_test)\n",
    "p = 8\n",
    "adj_r2 = 1 - ((1 - r2)*(n - 1)/(n - p - 1))\n",
    "print(\"Adjusted R-squared:\", adj_r2)\n",
    "print('Mean absolute error',mean_absolute_error(y_test,y_pred_Eln))\n",
    "print('Mean squared error',mean_squared_error(y_test,y_pred_Eln))\n",
    "mse = mean_squared_error(y_test, y_pred_Eln)\n",
    "rmse = np.sqrt(mse)\n",
    "print('Root Mean squared error:', rmse)"
   ]
  },
  {
   "cell_type": "markdown",
   "id": "880c0d11",
   "metadata": {},
   "source": [
    "# GUI"
   ]
  },
  {
   "cell_type": "code",
   "execution_count": 425,
   "id": "881ef3c2",
   "metadata": {},
   "outputs": [],
   "source": [
    "Lin=LinearRegression()\n",
    "Lin_final = Lin.fit(X_train,y_train)\n",
    "import joblib\n",
    "joblib.dump(Lin_final,'GearBox_price_predictor')\n",
    "['GearBox_price_predictor']\n",
    "model = joblib.load('GearBox_price_predictor')\n",
    "from tkinter import *\n",
    "import joblib\n",
    "\n",
    "\n",
    "def show_entry_fields():\n",
    "    p1=float(e1.get())\n",
    "    p2=float(e2.get())\n",
    "    p3=float(e3.get())\n",
    "    p4=float(e4.get())\n",
    "    p5=float(e5.get())\n",
    "    p6=float(e6.get())\n",
    "    p7=float(e7.get())\n",
    "    p8=float(e8.get())\n",
    "    \n",
    "    model = joblib.load('GearBox_price_predictor')\n",
    "    data_new = pd.DataFrame({\n",
    "    'Shaft_Diameter':p1,\n",
    "    'Rated_torque':p2,\n",
    "    'Max_Torque_Rating':p3,\n",
    "    'Thermal_Rating':p4,\n",
    "    'Stages':p5,\n",
    "    'Acutal_Ratio':p6,\n",
    "    'Max_Input_Power':p7,\n",
    "    'Actual_Speed_Rpm':p8\n",
    "    \n",
    "},index=[0])\n",
    "    result=model.predict(data_new)\n",
    "    Label(master, text=\"GearBox Purchase amount\").grid(row=9)\n",
    "    Label(master, text=result).grid(row=11)\n",
    "    print(\"GearBox Purchase amount\", result[0])\n",
    "    \n",
    "master = Tk()\n",
    "master.title(\"GearBox Price Prediction\")\n",
    "label = Label(master, text = \"GearBox Price Prediction\"\n",
    "                          , bg = \"black\", fg = \"white\"). \\\n",
    "                               grid(row=0,columnspan=2)\n",
    "\n",
    "\n",
    "Label(master, text=\"Shaft_Diameter\").grid(row=1)\n",
    "Label(master, text=\"Rated_torque\").grid(row=2)\n",
    "Label(master, text=\"Max_Torque_Rating\").grid(row=3)\n",
    "Label(master, text=\"Thermal_Rating\").grid(row=4)\n",
    "Label(master, text=\"Stages\").grid(row=5)\n",
    "Label(master, text=\"Acutal_Ratio\").grid(row=6)\n",
    "Label(master, text=\"Max_Input_Power\").grid(row=7)\n",
    "Label(master, text=\"Actual_Speed_Rpm\").grid(row=8)\n",
    "\n",
    "\n",
    "e1 = Entry(master)\n",
    "e2 = Entry(master)\n",
    "e3 = Entry(master)\n",
    "e4 = Entry(master)\n",
    "e5 = Entry(master)\n",
    "e6 = Entry(master)\n",
    "e7 = Entry(master)\n",
    "e8 = Entry(master)\n",
    "\n",
    "\n",
    "e1.grid(row=1, column=1)\n",
    "e2.grid(row=2, column=1)\n",
    "e3.grid(row=3, column=1)\n",
    "e4.grid(row=4, column=1)\n",
    "e5.grid(row=5, column=1)\n",
    "e6.grid(row=6, column=1)\n",
    "e7.grid(row=7, column=1)\n",
    "e8.grid(row=8, column=1)\n",
    "\n",
    "\n",
    "Button(master, text='Predict', command=show_entry_fields).grid()\n",
    "\n",
    "mainloop()"
   ]
  }
 ],
 "metadata": {
  "kernelspec": {
   "display_name": "Python 3 (ipykernel)",
   "language": "python",
   "name": "python3"
  },
  "language_info": {
   "codemirror_mode": {
    "name": "ipython",
    "version": 3
   },
   "file_extension": ".py",
   "mimetype": "text/x-python",
   "name": "python",
   "nbconvert_exporter": "python",
   "pygments_lexer": "ipython3",
   "version": "3.11.2"
  }
 },
 "nbformat": 4,
 "nbformat_minor": 5
}
